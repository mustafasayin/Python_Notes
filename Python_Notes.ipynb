{
  "nbformat": 4,
  "nbformat_minor": 0,
  "metadata": {
    "colab": {
      "provenance": [],
      "collapsed_sections": [
        "06k8cAgR4xpo",
        "Pa_yB6G14390"
      ],
      "toc_visible": true
    },
    "kernelspec": {
      "name": "python3",
      "display_name": "Python 3"
    },
    "language_info": {
      "name": "python"
    }
  },
  "cells": [
    {
      "cell_type": "markdown",
      "source": [
        "# Programlamaya Dair\n",
        "Her hangi bir süreç içerisinde kullanılacak genel bilgileri içerir."
      ],
      "metadata": {
        "id": "lAMCVKBcx-iE"
      }
    },
    {
      "cell_type": "markdown",
      "source": [
        "## a. Veri Tipleri [Veri Tipleri İçin Basit Örnekler](https://derslik.kerteriz.net/python-dersleri/temel-dersler/python-veri-tipleri)\n",
        "Değişkenlerin tipleri ve bunların sorgulanmasına dair işlemler.\n",
        "type() ile değişkenlerin tiplerine ulaşabilirsin.\n",
        "- Metin tipleri: **str**\n",
        "- Sayısal tipler: **int , float , complex**\n",
        "- Dizi tipleri:  **list , tuple , range**\n",
        "- Adresleme tipleri: **dict**\n",
        "- Küme tipleri: **set , frozenset**\n",
        "- Mantıksal tipler: **bool**\n",
        "- Binary tipler: **bytes , bytearray , memoryview**"
      ],
      "metadata": {
        "id": "fI0O_uQq1jlq"
      }
    },
    {
      "cell_type": "markdown",
      "source": [
        "### str tipler"
      ],
      "metadata": {
        "id": "06k8cAgR4xpo"
      }
    },
    {
      "cell_type": "code",
      "source": [
        "a=\"test\"\n",
        "type(a)"
      ],
      "metadata": {
        "colab": {
          "base_uri": "https://localhost:8080/"
        },
        "id": "k2IGcX-31QI-",
        "outputId": "48ac55b8-8916-42a8-d52b-3628aa3907b5"
      },
      "execution_count": null,
      "outputs": [
        {
          "output_type": "execute_result",
          "data": {
            "text/plain": [
              "str"
            ]
          },
          "metadata": {},
          "execution_count": 10
        }
      ]
    },
    {
      "cell_type": "markdown",
      "source": [
        "Stirng değerler ayrıca birer dizi olduğundan içerisinden seçim yapabilirsin. Bazı örnekler şöyledir."
      ],
      "metadata": {
        "id": "4-CUg4nj4E3b"
      }
    },
    {
      "cell_type": "code",
      "source": [
        "sehir= \"Ankara\"\n",
        "\n",
        "print(sehir[0])    #A\n",
        "print(sehir[1])    #n\n",
        "print(sehir[2])    #k\n",
        "print(sehir[3])    #a\n",
        "print(sehir[4])    #r\n",
        "print(sehir[5])    #a"
      ],
      "metadata": {
        "colab": {
          "base_uri": "https://localhost:8080/"
        },
        "id": "HYh0QId64Kbn",
        "outputId": "b8865150-ae27-446e-dfbc-4c1d4f2de2fb"
      },
      "execution_count": null,
      "outputs": [
        {
          "output_type": "stream",
          "name": "stdout",
          "text": [
            "A\n",
            "n\n",
            "k\n",
            "a\n",
            "r\n",
            "a\n"
          ]
        }
      ]
    },
    {
      "cell_type": "code",
      "source": [
        "sentence = \"learning python with honbad\"\n",
        "\n",
        "# 4. indeksten 10.indekse kadar\n",
        "sentence[0:]\n",
        "\n",
        "# En baştan 10.indekse kadar\n",
        "#sentence[:10]\n",
        "\n",
        "# 4. indeksten sonuna kadar\n",
        "#sentence[4:]"
      ],
      "metadata": {
        "colab": {
          "base_uri": "https://localhost:8080/",
          "height": 35
        },
        "id": "bjvdxZAb4XFR",
        "outputId": "4685177e-ee6c-420d-81b4-1b17e1d24277"
      },
      "execution_count": null,
      "outputs": [
        {
          "output_type": "execute_result",
          "data": {
            "text/plain": [
              "'learning python with honbad'"
            ],
            "application/vnd.google.colaboratory.intrinsic+json": {
              "type": "string"
            }
          },
          "metadata": {},
          "execution_count": 15
        }
      ]
    },
    {
      "cell_type": "code",
      "source": [
        "len(sentence)"
      ],
      "metadata": {
        "colab": {
          "base_uri": "https://localhost:8080/"
        },
        "id": "jgQC7mD25DTZ",
        "outputId": "733386d3-d366-4835-bb21-094845b5a979"
      },
      "execution_count": null,
      "outputs": [
        {
          "output_type": "execute_result",
          "data": {
            "text/plain": [
              "27"
            ]
          },
          "metadata": {},
          "execution_count": 16
        }
      ]
    },
    {
      "cell_type": "code",
      "source": [
        "x = sentence.upper()\n",
        "y = x.lower()\n",
        "print(x)"
      ],
      "metadata": {
        "colab": {
          "base_uri": "https://localhost:8080/"
        },
        "id": "tHRxQG2K5JdJ",
        "outputId": "ea341fac-fec2-43d1-9452-9e4915443b48"
      },
      "execution_count": null,
      "outputs": [
        {
          "output_type": "stream",
          "name": "stdout",
          "text": [
            "LEARNING PYTHON WITH HONBAD\n"
          ]
        }
      ]
    },
    {
      "cell_type": "markdown",
      "source": [
        "**a.replace(\"değiştirmek istediğin\", \"yeni değişken\")** şeklinde değişiklik yapabilirsin."
      ],
      "metadata": {
        "id": "K6aVaB-d5oji"
      }
    },
    {
      "cell_type": "code",
      "source": [
        "z=x.replace(\"L\",\"Y\")\n",
        "z"
      ],
      "metadata": {
        "colab": {
          "base_uri": "https://localhost:8080/",
          "height": 35
        },
        "id": "Zu0HN5Rr5WoQ",
        "outputId": "bb8ecae4-ca22-42d9-cf4a-33cfa8679a69"
      },
      "execution_count": null,
      "outputs": [
        {
          "output_type": "execute_result",
          "data": {
            "text/plain": [
              "'YEARNING PYTHON WITH HONBAD'"
            ],
            "application/vnd.google.colaboratory.intrinsic+json": {
              "type": "string"
            }
          },
          "metadata": {},
          "execution_count": 22
        }
      ]
    },
    {
      "cell_type": "markdown",
      "source": [
        "### int tipler"
      ],
      "metadata": {
        "id": "Pa_yB6G14390"
      }
    },
    {
      "cell_type": "code",
      "source": [
        "a = 5        # int\n",
        "b = 46.53    # float\n",
        "c = 3j       # complex\n",
        "type(c)"
      ],
      "metadata": {
        "colab": {
          "base_uri": "https://localhost:8080/"
        },
        "id": "X8j56ux6x_VD",
        "outputId": "03bbd82b-eb4e-497b-a33e-953a50b3b74b"
      },
      "execution_count": null,
      "outputs": [
        {
          "output_type": "execute_result",
          "data": {
            "text/plain": [
              "complex"
            ]
          },
          "metadata": {},
          "execution_count": 23
        }
      ]
    },
    {
      "cell_type": "markdown",
      "source": [
        "Bir veri tipi **int() , float() , ve complex()** fonksiyonları kullanılarak başka bir veri tipine dönüşüm yapılabilir."
      ],
      "metadata": {
        "id": "G3sJ8uD26CKT"
      }
    },
    {
      "cell_type": "code",
      "source": [
        "d = int(b)\n",
        "type(d)"
      ],
      "metadata": {
        "colab": {
          "base_uri": "https://localhost:8080/"
        },
        "id": "qO-a0Okfx_SK",
        "outputId": "6f2d16f9-76ea-4f6e-ab77-c2313238f04c"
      },
      "execution_count": null,
      "outputs": [
        {
          "output_type": "execute_result",
          "data": {
            "text/plain": [
              "int"
            ]
          },
          "metadata": {},
          "execution_count": 27
        }
      ]
    },
    {
      "cell_type": "markdown",
      "source": [
        "### Rastgele Sayı Üretme & Oluşturma\n",
        "Bu işlem için random() fonskiyonunu kullanabilirsin. Bu fonksiyon default olarak gelmez, bunun için random kütüphanesini okutman gerekiyor."
      ],
      "metadata": {
        "id": "H4J6yqzx6Ute"
      }
    },
    {
      "cell_type": "code",
      "source": [
        "import random\n",
        "\n",
        "random.randrange(1,10)"
      ],
      "metadata": {
        "colab": {
          "base_uri": "https://localhost:8080/"
        },
        "id": "niEJBBcux_LN",
        "outputId": "322e8201-cb2b-459f-a307-7b62d0855c0b"
      },
      "execution_count": null,
      "outputs": [
        {
          "output_type": "execute_result",
          "data": {
            "text/plain": [
              "8"
            ]
          },
          "metadata": {},
          "execution_count": 29
        }
      ]
    },
    {
      "cell_type": "markdown",
      "source": [
        "## b. Diziler (arrays)\n",
        "Bu başlıkta 4 farklı veri tipi vardır.\n",
        "\n",
        "- **Liste (List);** sıralanabilen ve değiştirilebilen elemanlardan oluşur. Aynı değerden birden fazla barındırabilir.\n",
        "- **Demet (Tuple);**  sıralanabilen ama değiştirilemeyen elemanlardan oluşur. Aynı değerden birden fazla barındırabilir.\n",
        "- **Küme (Set);**  sıralanamayan ve indekslenemeyen elemanlardan oluşur. Aynı değerden birden fazla eleman barındırmaz.\n",
        "- **Sözlük (Dictionary);**  değiştirilebilen, indekslenebilen ama sıralanamayan elemanlardan oluşur. Aynı değerden birden fazla eleman barındırmaz."
      ],
      "metadata": {
        "id": "XX7HPno_7FOW"
      }
    },
    {
      "cell_type": "markdown",
      "source": [
        "### listeler\n",
        "Python koleksiyonlar (diziler) altında yer alan liste (list) veri tipimiz sıralanabilen , değiştirilebilen , indekslenebilen  ve çoğul elemana izin veren bir veri tipidir. Köşeli parantezlerle [ ] oluşturulur. list() fonskiyonu ile de oluşturulabilir."
      ],
      "metadata": {
        "id": "mfusPkRt7fgc"
      }
    },
    {
      "cell_type": "code",
      "source": [
        "liste = [\"Ankara\",\"İstanbul\",\"Kayseri\"]\n",
        "liste"
      ],
      "metadata": {
        "colab": {
          "base_uri": "https://localhost:8080/"
        },
        "id": "dEG0WpRex-SU",
        "outputId": "5397b689-7725-4af8-843e-68e06695dce5"
      },
      "execution_count": null,
      "outputs": [
        {
          "output_type": "execute_result",
          "data": {
            "text/plain": [
              "['Ankara', 'İstanbul', 'Kayseri']"
            ]
          },
          "metadata": {},
          "execution_count": 30
        }
      ]
    },
    {
      "cell_type": "code",
      "execution_count": null,
      "metadata": {
        "colab": {
          "base_uri": "https://localhost:8080/"
        },
        "id": "iXq1e54ptLS_",
        "outputId": "b1dd44aa-b6cf-4b87-b770-42d5121ddbfa"
      },
      "outputs": [
        {
          "output_type": "execute_result",
          "data": {
            "text/plain": [
              "list"
            ]
          },
          "metadata": {},
          "execution_count": 31
        }
      ],
      "source": [
        "type(liste)"
      ]
    },
    {
      "cell_type": "markdown",
      "source": [
        "Elemanlara erişim için liste[istenen elemanın indeks sayısı] şeklinde olur."
      ],
      "metadata": {
        "id": "cuzcGfkw720c"
      }
    },
    {
      "cell_type": "code",
      "source": [
        "liste[0]\n",
        "liste[0:2]"
      ],
      "metadata": {
        "colab": {
          "base_uri": "https://localhost:8080/"
        },
        "id": "dgEbyRR878tt",
        "outputId": "852da8e7-abfd-451a-a201-91ef41f8957f"
      },
      "execution_count": null,
      "outputs": [
        {
          "output_type": "execute_result",
          "data": {
            "text/plain": [
              "['Ankara', 'İstanbul']"
            ]
          },
          "metadata": {},
          "execution_count": 35
        }
      ]
    },
    {
      "cell_type": "code",
      "source": [
        "len(liste)\n",
        "liste.count(\"Ankara\")"
      ],
      "metadata": {
        "colab": {
          "base_uri": "https://localhost:8080/"
        },
        "id": "rE5V03dX8Gw9",
        "outputId": "f10cc240-1be0-4efd-b10c-4aa06e25ae2f"
      },
      "execution_count": null,
      "outputs": [
        {
          "output_type": "execute_result",
          "data": {
            "text/plain": [
              "1"
            ]
          },
          "metadata": {},
          "execution_count": 39
        }
      ]
    },
    {
      "cell_type": "markdown",
      "source": [
        "Eleman değiştirme, eleman ekleme-çıkarma işlemleri için;"
      ],
      "metadata": {
        "id": "dS7PNo6o8TKH"
      }
    },
    {
      "cell_type": "code",
      "source": [
        "meyveler = [\"kivi\",\"çilek\",\"muz\",\"pırasa\"]\n",
        "\n",
        "meyveler[3] = \"armut\"\n",
        "meyveler.append(\"muz\")\n",
        "meyveler.insert(1,\"muz\")\n",
        "meyveler"
      ],
      "metadata": {
        "colab": {
          "base_uri": "https://localhost:8080/"
        },
        "id": "DmyEuRiC7wf4",
        "outputId": "22adbd8c-fe53-40b5-c050-dd640233dca6"
      },
      "execution_count": null,
      "outputs": [
        {
          "output_type": "execute_result",
          "data": {
            "text/plain": [
              "['kivi', 'muz', 'çilek', 'muz', 'armut', 'muz']"
            ]
          },
          "metadata": {},
          "execution_count": 41
        }
      ]
    },
    {
      "cell_type": "code",
      "source": [
        "meyveler.remove(\"çilek\")\n",
        "meyveler.clear()"
      ],
      "metadata": {
        "id": "NOGMn0GD8fv8"
      },
      "execution_count": null,
      "outputs": []
    },
    {
      "cell_type": "code",
      "source": [
        "yeni=liste.copy()\n",
        "yeni"
      ],
      "metadata": {
        "colab": {
          "base_uri": "https://localhost:8080/"
        },
        "id": "zcxkeZ4C8ohz",
        "outputId": "884d86fb-007b-4581-a4c6-c46cd179aff8"
      },
      "execution_count": null,
      "outputs": [
        {
          "output_type": "execute_result",
          "data": {
            "text/plain": [
              "['Ankara', 'İstanbul', 'Kayseri']"
            ]
          },
          "metadata": {},
          "execution_count": 43
        }
      ]
    },
    {
      "cell_type": "markdown",
      "source": [
        "### tuple\n",
        "demet (tuple) veri tipimiz sıralanabilen , indekslenebilen, çoğul elemana izin veren ama değiştirilemeyen bir veri tipidir. Yuvarlak parantezlerle ( ) oluşturulur."
      ],
      "metadata": {
        "id": "OYTGXQubDjTP"
      }
    },
    {
      "cell_type": "code",
      "source": [
        "demet = (\"elma\",\"armut\",\"çilek\")"
      ],
      "metadata": {
        "id": "CHd1IoBbDtCb"
      },
      "execution_count": null,
      "outputs": []
    },
    {
      "cell_type": "code",
      "source": [
        "demet[0]"
      ],
      "metadata": {
        "colab": {
          "base_uri": "https://localhost:8080/",
          "height": 35
        },
        "id": "RpSv72xLDwgN",
        "outputId": "a9a284e2-4944-496f-a161-ecc581773f29"
      },
      "execution_count": null,
      "outputs": [
        {
          "output_type": "execute_result",
          "data": {
            "text/plain": [
              "'elma'"
            ],
            "application/vnd.google.colaboratory.intrinsic+json": {
              "type": "string"
            }
          },
          "metadata": {},
          "execution_count": 45
        }
      ]
    },
    {
      "cell_type": "markdown",
      "source": [
        "### sets (kümeler)\n",
        "küme (set) veri tipimiz sıralanamayan , değiştirilemeyen, indekslenemeyen ve çoğul elemana izin vermeyen bir veri tipidir. Süslü parantezlerle { } oluşturulur. ayrıca set() ile de oluşturulabilir."
      ],
      "metadata": {
        "id": "2R_EJuinMYXA"
      }
    },
    {
      "cell_type": "code",
      "source": [
        "kume = {\"elma\",\"armut\",\"çilek\"}"
      ],
      "metadata": {
        "id": "h33WAHzPMf7n"
      },
      "execution_count": null,
      "outputs": []
    },
    {
      "cell_type": "code",
      "source": [
        "kume"
      ],
      "metadata": {
        "colab": {
          "base_uri": "https://localhost:8080/"
        },
        "id": "DO0blPZWMjIg",
        "outputId": "9a1a90f3-1921-485d-a13f-bf5502ddf2f7"
      },
      "execution_count": null,
      "outputs": [
        {
          "output_type": "execute_result",
          "data": {
            "text/plain": [
              "{'armut', 'elma', 'çilek'}"
            ]
          },
          "metadata": {},
          "execution_count": 72
        }
      ]
    },
    {
      "cell_type": "code",
      "source": [
        "kume = set((\"ankara\",\"istanbul\"))"
      ],
      "metadata": {
        "id": "lhPrtCbxMj6N"
      },
      "execution_count": null,
      "outputs": []
    },
    {
      "cell_type": "code",
      "source": [
        "kume.add(\"g\")"
      ],
      "metadata": {
        "id": "2lmZfKarMwS1"
      },
      "execution_count": null,
      "outputs": []
    },
    {
      "cell_type": "code",
      "source": [
        "kume.update(liste)"
      ],
      "metadata": {
        "id": "SPm-xKjKM0AF"
      },
      "execution_count": null,
      "outputs": []
    },
    {
      "cell_type": "code",
      "source": [
        "kume.remove(\"istanbul\")"
      ],
      "metadata": {
        "id": "98k2DRv3NIKX"
      },
      "execution_count": null,
      "outputs": []
    },
    {
      "cell_type": "code",
      "source": [
        "del kume"
      ],
      "metadata": {
        "id": "pQR8FChsNKH2"
      },
      "execution_count": null,
      "outputs": []
    },
    {
      "cell_type": "markdown",
      "source": [
        "### dictionaries (sözlükler)\n",
        "sözlük (dict) veri tipimiz değiştirilebilen , indekslenebilen, çoğul elemana izin veren ama sıralanamayan  bir veri tipidir. Süslü parantezlerle { } oluşturulur. dict() fonksiyonu ile de oluşturulabilir"
      ],
      "metadata": {
        "id": "tU5IQnWPNYh0"
      }
    },
    {
      "cell_type": "code",
      "source": [
        "sozluk = {\n",
        "         \"marka\" : \"BMW\",\n",
        "         \"model\" : \"i8\",\n",
        "         \"yil\"   : 2019\n",
        "         }"
      ],
      "metadata": {
        "id": "GycZXXw1NgZ-"
      },
      "execution_count": null,
      "outputs": []
    },
    {
      "cell_type": "code",
      "source": [
        "sozluk"
      ],
      "metadata": {
        "colab": {
          "base_uri": "https://localhost:8080/"
        },
        "id": "-LAVLOxXNiN3",
        "outputId": "697bb3a0-07c4-465b-d28c-11b893b69978"
      },
      "execution_count": null,
      "outputs": [
        {
          "output_type": "execute_result",
          "data": {
            "text/plain": [
              "{'marka': 'BMW', 'model': 'i8', 'yil': 2019}"
            ]
          },
          "metadata": {},
          "execution_count": 60
        }
      ]
    },
    {
      "cell_type": "code",
      "source": [
        "sozluk = dict(sehir = \"Ankara\", plaka = 6)\n",
        "sozluk"
      ],
      "metadata": {
        "colab": {
          "base_uri": "https://localhost:8080/"
        },
        "id": "86DJPuy1Ni5f",
        "outputId": "0591dd48-b612-492b-c026-4aa05a47fcd6"
      },
      "execution_count": null,
      "outputs": [
        {
          "output_type": "execute_result",
          "data": {
            "text/plain": [
              "{'sehir': 'Ankara', 'plaka': 6}"
            ]
          },
          "metadata": {},
          "execution_count": 62
        }
      ]
    },
    {
      "cell_type": "code",
      "source": [
        "sozluk[\"yil\"]"
      ],
      "metadata": {
        "colab": {
          "base_uri": "https://localhost:8080/"
        },
        "id": "ueWQqX4RNmX-",
        "outputId": "8e82ceee-bfaf-43dd-be14-fd9c2a964b77"
      },
      "execution_count": null,
      "outputs": [
        {
          "output_type": "execute_result",
          "data": {
            "text/plain": [
              "2019"
            ]
          },
          "metadata": {},
          "execution_count": 69
        }
      ]
    },
    {
      "cell_type": "code",
      "source": [
        "sozluk.get(\"yil\")"
      ],
      "metadata": {
        "colab": {
          "base_uri": "https://localhost:8080/"
        },
        "id": "l52G1MU-NsYY",
        "outputId": "29c9cc69-5251-4278-c3e0-2b6507c23265"
      },
      "execution_count": null,
      "outputs": [
        {
          "output_type": "execute_result",
          "data": {
            "text/plain": [
              "2019"
            ]
          },
          "metadata": {},
          "execution_count": 70
        }
      ]
    },
    {
      "cell_type": "code",
      "source": [],
      "metadata": {
        "id": "OSAyWMVpN9Bx"
      },
      "execution_count": null,
      "outputs": []
    },
    {
      "cell_type": "markdown",
      "source": [
        "## c. if else elif\n",
        "Koşul ifadeleri programımızda durumları kontrol etmemizi ve programlamanın seyrini değiştirmeye yarar. if , else ve elif terimleriyle mantıksal ifadeleri kullanarak bir durumun koşulu sağlaması durumunda çalışmasını gerçekleştirebiliriz."
      ],
      "metadata": {
        "id": "UoGC4ln8OMnL"
      }
    },
    {
      "cell_type": "code",
      "source": [
        "a = 25\n",
        "b = 50\n",
        "\n",
        "if b > a:\n",
        "    print(\"b büyüktür a dan\")"
      ],
      "metadata": {
        "colab": {
          "base_uri": "https://localhost:8080/"
        },
        "id": "aq1kGWTFOUB5",
        "outputId": "5b781735-1b73-4ae2-e9b8-abf4fc2f573d"
      },
      "execution_count": null,
      "outputs": [
        {
          "output_type": "stream",
          "name": "stdout",
          "text": [
            "b büyüktür a dan\n"
          ]
        }
      ]
    },
    {
      "cell_type": "code",
      "source": [
        "sayi = 3\n",
        "\n",
        "if sayi%2 == 0:\n",
        "    print(str(sayi) + \" çift sayıdır\")\n",
        "else:\n",
        "    print(str(sayi) + \" tek sayıdır\")"
      ],
      "metadata": {
        "colab": {
          "base_uri": "https://localhost:8080/"
        },
        "id": "t2TwLLmPOdlb",
        "outputId": "76b0718d-aa6a-4b44-a132-0dde8db7d87c"
      },
      "execution_count": null,
      "outputs": [
        {
          "output_type": "stream",
          "name": "stdout",
          "text": [
            "3 tek sayıdır\n"
          ]
        }
      ]
    },
    {
      "cell_type": "code",
      "source": [
        "yas = 4\n",
        "\n",
        "if yas < 18:\n",
        "  print(\"yaşınız:\" + str(yas) + \" çocuksunuz\")\n",
        "elif yas >= 18 and yas<=34:\n",
        "  print(\"yaşınız:\" + str(yas) + \" gençsiniz\")\n",
        "elif yas >= 36:\n",
        "  print(\"yaşınız:\" + str(yas) + \" yetişkinsiniz\")\n",
        "else:\n",
        "  print(\"yaşınız:\" + str(yas) + \" yolun yarısı\")"
      ],
      "metadata": {
        "colab": {
          "base_uri": "https://localhost:8080/"
        },
        "id": "NYZ8TbjjOp05",
        "outputId": "d661f964-ce43-4478-914b-f56c942f22f5"
      },
      "execution_count": null,
      "outputs": [
        {
          "output_type": "stream",
          "name": "stdout",
          "text": [
            "yaşınız:4 çocuksunuz\n"
          ]
        }
      ]
    },
    {
      "cell_type": "markdown",
      "source": [
        "Tek satırda if else kullanımı"
      ],
      "metadata": {
        "id": "NVDI0-EBPwJb"
      }
    },
    {
      "cell_type": "code",
      "source": [
        "a = 20\n",
        "b = 10\n",
        "\n",
        "if a > b: print(\"a büyüktür b den\")"
      ],
      "metadata": {
        "colab": {
          "base_uri": "https://localhost:8080/"
        },
        "id": "CbiqOedcPvmw",
        "outputId": "d89175e9-ef9e-4d57-9c8a-3792fbc9a823"
      },
      "execution_count": null,
      "outputs": [
        {
          "output_type": "stream",
          "name": "stdout",
          "text": [
            "a büyüktür b den\n"
          ]
        }
      ]
    },
    {
      "cell_type": "code",
      "source": [
        "print(\"Çift sayı\") if a%2 == 0 else print(\"Tek sayı\")"
      ],
      "metadata": {
        "colab": {
          "base_uri": "https://localhost:8080/"
        },
        "id": "m7zDJ_qbPVs3",
        "outputId": "5ff0be88-d6eb-4aa5-babc-b691c5c39ce1"
      },
      "execution_count": null,
      "outputs": [
        {
          "output_type": "stream",
          "name": "stdout",
          "text": [
            "Çift sayı\n"
          ]
        }
      ]
    },
    {
      "cell_type": "code",
      "source": [
        "print(\"Genç\") if yas > 18 else print(\"Bebek\") if yas < 5 else print(\"Ergen\")"
      ],
      "metadata": {
        "colab": {
          "base_uri": "https://localhost:8080/"
        },
        "id": "XpuwmRFzP8xN",
        "outputId": "faf04cc2-100b-4fd6-ecb8-1bad9bb1ad95"
      },
      "execution_count": null,
      "outputs": [
        {
          "output_type": "stream",
          "name": "stdout",
          "text": [
            "Bebek\n"
          ]
        }
      ]
    },
    {
      "cell_type": "markdown",
      "source": [
        "Pass ile bir koşulda hiçbir şey yapmak istemediğinde kullanabilirsin."
      ],
      "metadata": {
        "id": "WZRrXffrQKPO"
      }
    },
    {
      "cell_type": "code",
      "source": [
        "kontrol = 1\n",
        "\n",
        "if kontrol == 0:\n",
        "    print(\"Hata Var!\")\n",
        "else:\n",
        "    pass"
      ],
      "metadata": {
        "id": "rx8-Es25QVRr"
      },
      "execution_count": null,
      "outputs": []
    },
    {
      "cell_type": "code",
      "source": [],
      "metadata": {
        "id": "4mkBOlz_QWIU"
      },
      "execution_count": null,
      "outputs": []
    },
    {
      "cell_type": "markdown",
      "source": [
        "## döngüler\n",
        "Python programlama dilinde kullanabileceğimiz iki tür döngü çeşidi vardır. Bu döngüler şunlardır;\n",
        "- for\n",
        "- while"
      ],
      "metadata": {
        "id": "vB7MC0nhQaDh"
      }
    },
    {
      "cell_type": "markdown",
      "source": [
        "### for\n",
        "Python programlama dilinde bir liste, demet, sözlük, küme, string veya belirlediğiniz iki sayı arasında döngü oluşturmak istediğinizde for terimini kullanırsınız."
      ],
      "metadata": {
        "id": "R_PxwpUfQnDn"
      }
    },
    {
      "cell_type": "code",
      "source": [
        "isim = \"Blog\"\n",
        "\n",
        "for x in isim:\n",
        "    print(x)"
      ],
      "metadata": {
        "colab": {
          "base_uri": "https://localhost:8080/"
        },
        "id": "4Z5uZmo2Qfll",
        "outputId": "d086c8d7-a851-4092-ce3c-88b35da7ce82"
      },
      "execution_count": null,
      "outputs": [
        {
          "output_type": "stream",
          "name": "stdout",
          "text": [
            "B\n",
            "l\n",
            "o\n",
            "g\n"
          ]
        }
      ]
    },
    {
      "cell_type": "code",
      "source": [
        "liste = [\"Ankara\",\"İstanbul\",\"Kayseri\"]\n",
        "\n",
        "for sehir in liste:\n",
        "    print(sehir)"
      ],
      "metadata": {
        "colab": {
          "base_uri": "https://localhost:8080/"
        },
        "id": "LPUTsDOnQv3Y",
        "outputId": "86e944c6-3b4d-4045-9148-ceadf17e3258"
      },
      "execution_count": null,
      "outputs": [
        {
          "output_type": "stream",
          "name": "stdout",
          "text": [
            "Ankara\n",
            "İstanbul\n",
            "Kayseri\n"
          ]
        }
      ]
    },
    {
      "cell_type": "code",
      "source": [
        "sayi = [4,3,2,1]\n",
        "for i in range(1,6):\n",
        "  print(\"x\"*i)\n",
        "  if i == 5:\n",
        "    for j in sayi:\n",
        "      print(\"x\"*j)"
      ],
      "metadata": {
        "colab": {
          "base_uri": "https://localhost:8080/"
        },
        "id": "rQ2nX5koQzPT",
        "outputId": "c6b7ad18-7bb8-4ab5-fc7d-06494d4dd45b"
      },
      "execution_count": null,
      "outputs": [
        {
          "output_type": "stream",
          "name": "stdout",
          "text": [
            "x\n",
            "xx\n",
            "xxx\n",
            "xxxx\n",
            "xxxxx\n",
            "xxxx\n",
            "xxx\n",
            "xx\n",
            "x\n"
          ]
        }
      ]
    },
    {
      "cell_type": "code",
      "source": [
        "for i in range(3):\n",
        "    print(\"Sayı: \" + str(i))"
      ],
      "metadata": {
        "colab": {
          "base_uri": "https://localhost:8080/"
        },
        "id": "JpfsAE6dRicO",
        "outputId": "fae71dfa-09ba-44d9-9e09-97d50c65fb3a"
      },
      "execution_count": null,
      "outputs": [
        {
          "output_type": "stream",
          "name": "stdout",
          "text": [
            "Sayı: 0\n",
            "Sayı: 1\n",
            "Sayı: 2\n"
          ]
        }
      ]
    },
    {
      "cell_type": "markdown",
      "source": [
        "Döngümüz ilerlerken istediğimiz bir durumda durdurabilmek için break komutunu kullanırız. Python break komutunu gördüğünde döngüyü durdurarak döngüden çıkar."
      ],
      "metadata": {
        "id": "xNpHTQRxSUGE"
      }
    },
    {
      "cell_type": "code",
      "source": [
        "for i in range(10):\n",
        "    if i == 4:\n",
        "        break\n",
        "    print(i)"
      ],
      "metadata": {
        "colab": {
          "base_uri": "https://localhost:8080/"
        },
        "id": "48blGf9MSPBN",
        "outputId": "e6d79a2a-68e7-42d3-f688-a3d89e09c5e0"
      },
      "execution_count": null,
      "outputs": [
        {
          "output_type": "stream",
          "name": "stdout",
          "text": [
            "0\n",
            "1\n",
            "2\n",
            "3\n"
          ]
        }
      ]
    },
    {
      "cell_type": "markdown",
      "source": [
        "Döngümüzü bir koşul ile durdurabileceğimizi gördük. Şimdi ise yine bir koşul ile döngüde ki o durumu atlayabiliriz ve döngünün diğer aşamasına geçebiliriz. Bunun için continue terimini kullanabiliriz."
      ],
      "metadata": {
        "id": "bfdOV-T2SYX9"
      }
    },
    {
      "cell_type": "code",
      "source": [
        "for i in range(10):\n",
        "    if i % 2 == 0:\n",
        "        continue\n",
        "    print(i)"
      ],
      "metadata": {
        "colab": {
          "base_uri": "https://localhost:8080/"
        },
        "id": "wuh0qmIZSWJu",
        "outputId": "7a5fd1dc-8084-4a8e-df51-5a1431ba26a7"
      },
      "execution_count": null,
      "outputs": [
        {
          "output_type": "stream",
          "name": "stdout",
          "text": [
            "1\n",
            "3\n",
            "5\n",
            "7\n",
            "9\n"
          ]
        }
      ]
    },
    {
      "cell_type": "markdown",
      "source": [
        "### while\n",
        "bir koşul aracılığıyla nasıl bir döngü oluşturacağımızı while kullanımı ile öğreneceğiz.\n"
      ],
      "metadata": {
        "id": "U8xJGgurSfOa"
      }
    },
    {
      "cell_type": "code",
      "source": [
        "i = 1\n",
        "\n",
        "while i < 4:\n",
        "  print(i)\n",
        "  i += 1"
      ],
      "metadata": {
        "colab": {
          "base_uri": "https://localhost:8080/"
        },
        "id": "wmnOOdtfSZY8",
        "outputId": "24c31524-3199-4c46-ca56-bb6877f84044"
      },
      "execution_count": null,
      "outputs": [
        {
          "output_type": "stream",
          "name": "stdout",
          "text": [
            "1\n",
            "2\n",
            "3\n"
          ]
        }
      ]
    },
    {
      "cell_type": "markdown",
      "source": [
        "Döngümüz ilerlerken istediğimiz bir durumda durdurabilmek için break komutunu kullanırız. Python break komutunu gördüğünde döngüyü durdurarak döngüden çıkar."
      ],
      "metadata": {
        "id": "mYYJ8VTFSv6k"
      }
    },
    {
      "cell_type": "code",
      "source": [
        "i = 1\n",
        "\n",
        "while i < 6:\n",
        "  print(i)\n",
        "  if i == 2:\n",
        "    break\n",
        "  i += 1"
      ],
      "metadata": {
        "colab": {
          "base_uri": "https://localhost:8080/"
        },
        "id": "9npt_mirSqaw",
        "outputId": "f2ab40eb-7c1e-47ee-8231-e57ae47caa0c"
      },
      "execution_count": null,
      "outputs": [
        {
          "output_type": "stream",
          "name": "stdout",
          "text": [
            "1\n",
            "2\n"
          ]
        }
      ]
    },
    {
      "cell_type": "markdown",
      "source": [
        "## c. Fonksiyonlar\n",
        "Fonksiyonlar, sadece çağrıldıklarında çalışan kod bloklarıdır. Bir fonksiyon ile tanımladığınız belirli komutlarınız, yeri geldiğinde çağrılarak, parametreler gönderilerek kullanılır ve istenilirse size bir değer döndürür."
      ],
      "metadata": {
        "id": "8V08t6i2Synv"
      }
    },
    {
      "cell_type": "markdown",
      "source": [
        "### Fonksiyon Oluşturmak ve Çağırmak\n",
        "Python programlama dilinde bir program oluşturabilmek için def terimini kullanırız ve ardından fonksiyon ismini yazarız."
      ],
      "metadata": {
        "id": "KMHCri9yS9T9"
      }
    },
    {
      "cell_type": "code",
      "source": [
        "def ornekFonksiyon():\n",
        "    print(\"Merhaba Dünya!\")"
      ],
      "metadata": {
        "id": "1KED9zhySuGD"
      },
      "execution_count": null,
      "outputs": []
    },
    {
      "cell_type": "code",
      "source": [
        "ornekFonksiyon()"
      ],
      "metadata": {
        "colab": {
          "base_uri": "https://localhost:8080/"
        },
        "id": "tKaU2bmlTDER",
        "outputId": "db25c573-c3fc-416e-c9b0-6b6bdd022d4f"
      },
      "execution_count": null,
      "outputs": [
        {
          "output_type": "stream",
          "name": "stdout",
          "text": [
            "Merhaba Dünya!\n"
          ]
        }
      ]
    },
    {
      "cell_type": "markdown",
      "source": [
        "### Fonksiyon Parametreleri\n",
        "Oluşturduğumuz fonksiyona parametre göndererek işleme sokmak istiyorsak, fonksiyonumuzu oluştururken parantezlerin arasında bu parametreleri belirtmeli ve fonksiyonu çağırırken ilgili parametre değerleri ile çağırmalıyız."
      ],
      "metadata": {
        "id": "WyZb9EUnTHOK"
      }
    },
    {
      "cell_type": "code",
      "source": [
        "def selamVer(isim,yas):\n",
        "    print(\"Merhaba, {} {} yaşındadır\".format(isim,yas))\n",
        "\n",
        "selamVer(\"mustafa\",28)"
      ],
      "metadata": {
        "colab": {
          "base_uri": "https://localhost:8080/"
        },
        "id": "jwYk0VtpTEXq",
        "outputId": "e3d2d7a0-2563-4b3a-cec6-5a900950b068"
      },
      "execution_count": null,
      "outputs": [
        {
          "output_type": "stream",
          "name": "stdout",
          "text": [
            "Merhaba, mustafa 28 yaşındadır\n"
          ]
        }
      ]
    },
    {
      "cell_type": "markdown",
      "source": [
        "### Öntanımlı Parametre İle Fonksiyon Oluşturmak\n",
        "Fonksiyonlarımızı oluştururken alacağı parametrelerin değerlerini öntanımlı olarak belirleyebiliriz. Bu sayede kullanıcı eğer parametrenin değerini göndermezse biz bu parametreye bir öntanımlı değer atayabiliriz."
      ],
      "metadata": {
        "id": "OVqZJLa_TW4q"
      }
    },
    {
      "cell_type": "code",
      "source": [
        "def dogumYeri(sehir=\"Bilinmiyor\"):\n",
        "    print(\"Doğum yeri: \" + sehir)\n",
        "\n",
        "dogumYeri(\"Ankara\")"
      ],
      "metadata": {
        "colab": {
          "base_uri": "https://localhost:8080/"
        },
        "id": "UtH9mQfdTSiy",
        "outputId": "a64ece7f-8449-4c66-edd2-c70af34d028e"
      },
      "execution_count": null,
      "outputs": [
        {
          "output_type": "stream",
          "name": "stdout",
          "text": [
            "Doğum yeri: Ankara\n"
          ]
        }
      ]
    },
    {
      "cell_type": "code",
      "source": [
        "dogumYeri()"
      ],
      "metadata": {
        "colab": {
          "base_uri": "https://localhost:8080/"
        },
        "id": "PNcM0cBzTdWO",
        "outputId": "6f3d79b7-0c22-46e2-96c7-7a947ceb7a40"
      },
      "execution_count": null,
      "outputs": [
        {
          "output_type": "stream",
          "name": "stdout",
          "text": [
            "Doğum yeri: Bilinmiyor\n"
          ]
        }
      ]
    },
    {
      "cell_type": "markdown",
      "source": [
        "burada sehir=\"bilinmiyor\" ile ön tanım ataması yapmış olduk, default değeri."
      ],
      "metadata": {
        "id": "AYGbcqLITj6e"
      }
    },
    {
      "cell_type": "code",
      "source": [
        "def sekil(sayi):\n",
        "    liste = []\n",
        "    for i in range(1, sayi + 1):\n",
        "        liste.append(i)\n",
        "        print(\"x\" * i)\n",
        "    for j in range(sayi, 0, -1):\n",
        "        print(\"x\" * j)\n",
        "\n",
        "# Kullanıcıdan bir sayı girmesini istiyoruz\n",
        "sayi = int(input(\"Bir sayı girin: \"))"
      ],
      "metadata": {
        "colab": {
          "base_uri": "https://localhost:8080/"
        },
        "id": "te4Qnf6KULT4",
        "outputId": "f283eecf-5238-46f8-f6ba-8e0fa726ff01"
      },
      "execution_count": null,
      "outputs": [
        {
          "name": "stdout",
          "output_type": "stream",
          "text": [
            "Bir sayı girin: 7\n"
          ]
        }
      ]
    },
    {
      "cell_type": "code",
      "source": [
        "sekil(sayi)"
      ],
      "metadata": {
        "colab": {
          "base_uri": "https://localhost:8080/"
        },
        "id": "8lFCbBjQU030",
        "outputId": "3fa13030-72b8-4bc7-c645-1e97a3c3401e"
      },
      "execution_count": null,
      "outputs": [
        {
          "output_type": "stream",
          "name": "stdout",
          "text": [
            "x\n",
            "xx\n",
            "xxx\n",
            "xxxx\n",
            "xxxxx\n",
            "xxxxxx\n",
            "xxxxxxx\n",
            "xxxxxxx\n",
            "xxxxxx\n",
            "xxxxx\n",
            "xxxx\n",
            "xxx\n",
            "xx\n",
            "x\n"
          ]
        }
      ]
    },
    {
      "cell_type": "code",
      "source": [
        "def carpma(x,y):\n",
        "    return x*y\n",
        "\n",
        "print(carpma(7,5))"
      ],
      "metadata": {
        "colab": {
          "base_uri": "https://localhost:8080/"
        },
        "id": "W02OQHT4U4E4",
        "outputId": "8e42d6d8-df99-474a-e033-b1bad74ea618"
      },
      "execution_count": null,
      "outputs": [
        {
          "output_type": "stream",
          "name": "stdout",
          "text": [
            "35\n"
          ]
        }
      ]
    },
    {
      "cell_type": "markdown",
      "source": [
        "## d.Lambda\n",
        " fonksiyonları tek satırlık ifadelerle yazmamızı ve bize pratiklik sağlayan bir konu olan lambda fonksiyonlarını işleyeceğiz.\n",
        "\n",
        "**lambda p1, p2: komut**"
      ],
      "metadata": {
        "id": "nFo8K04SVM7V"
      }
    },
    {
      "cell_type": "code",
      "source": [],
      "metadata": {
        "id": "KCGCCHZaVR00"
      },
      "execution_count": null,
      "outputs": []
    }
  ]
}